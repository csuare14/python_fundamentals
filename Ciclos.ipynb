{
  "nbformat": 4,
  "nbformat_minor": 0,
  "metadata": {
    "colab": {
      "provenance": [],
      "toc_visible": true
    },
    "kernelspec": {
      "name": "python3",
      "display_name": "Python 3"
    },
    "language_info": {
      "name": "python"
    }
  },
  "cells": [
    {
      "cell_type": "code",
      "execution_count": 7,
      "metadata": {
        "colab": {
          "base_uri": "https://localhost:8080/"
        },
        "id": "we0nKarh_bRD",
        "outputId": "318a3c91-9e66-451d-c33a-4f87dcda18de"
      },
      "outputs": [
        {
          "name": "stdout",
          "output_type": "stream",
          "text": [
            "Ingrese el monto de la compra: 200\n",
            "El valor total a pagar es de: $ 200.0\n",
            "Ingrese el monto de la compra: 1200\n",
            "El valor total a pagar es de: $ 1260.0\n",
            "Ingrese el monto de la compra: 0\n"
          ]
        }
      ],
      "source": [
        "total=0\n",
        "\n",
        "while True:\n",
        "\n",
        "  monto=float(input(\"Ingrese el monto de la compra: \"))\n",
        "\n",
        "  if monto==0:\n",
        "    break;\n",
        "\n",
        "  if monto<0:\n",
        "    print(\"El valor ingresado no es valido. Por favor ingrese nuevamente el valor\")\n",
        "\n",
        "    continue;\n",
        "\n",
        "  total +=monto\n",
        "\n",
        "  if total>1000:\n",
        "\n",
        "    total*=0.9\n",
        "\n",
        "  print(\"El valor total a pagar es de: $\", total)\n",
        "\n"
      ]
    },
    {
      "cell_type": "code",
      "source": [
        "minutos_total=0\n",
        "costo=0\n",
        "\n",
        "while True:\n",
        "\n",
        "  minutos= int(input(\"Ingrese el tiempo dentro del estacionamiento en minutos: \"))\n",
        "\n",
        "  if minutos==0:\n",
        "    break;\n",
        "\n",
        "  if minutos<0:\n",
        "\n",
        "    print(\"El tiempo ingresado no es valido. Por favor ingrese nuevamente el valor\")\n",
        "\n",
        "    continue;\n",
        "\n",
        "  minutos_total += minutos\n",
        "\n",
        "  if minutos_total>(8*60):\n",
        "    costo=200 + 25\n",
        "\n",
        "  elif minutos_total>60:\n",
        "    costo= 25 + (15*((minutos_total-60)/60))\n",
        "\n",
        "  elif minutos_total>0:\n",
        "    costo=25\n",
        "  else:\n",
        "    costo=0\n",
        "\n",
        "  print(\"Total a pagar: $\", costo, \"por los \", minutos_total, \" minutos\")\n"
      ],
      "metadata": {
        "colab": {
          "base_uri": "https://localhost:8080/"
        },
        "id": "ZBSocyncN4uA",
        "outputId": "47a454dd-3cd8-4ffb-b106-67cc04075d54"
      },
      "execution_count": 14,
      "outputs": [
        {
          "name": "stdout",
          "output_type": "stream",
          "text": [
            "Ingrese el tiempo dentro del estacionamiento en minutos: 0\n"
          ]
        }
      ]
    }
  ]
}