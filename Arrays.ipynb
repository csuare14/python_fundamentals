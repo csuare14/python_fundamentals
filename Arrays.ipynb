{
  "cells": [
    {
      "cell_type": "code",
      "source": [
        "import numpy as np\r\n",
        "\r\n",
        "matriz_3x3 = np.arange(9).reshape(3, 3)\r\n",
        "print(matriz_3x3)\r\n",
        "\r\n",
        "matriz_identidad=np.identity (5)\r\n",
        "print(matriz_identidad)\r\n"
      ],
      "outputs": [
        {
          "output_type": "display_data",
          "data": {
            "application/vnd.livy.statement-meta+json": {
              "spark_pool": "SPK00",
              "session_id": "10",
              "statement_id": 8,
              "state": "finished",
              "livy_statement_state": "available",
              "queued_time": "2023-07-14T18:45:11.2567289Z",
              "session_start_time": null,
              "execution_start_time": "2023-07-14T18:45:11.7845403Z",
              "execution_finish_time": "2023-07-14T18:45:11.9647409Z",
              "spark_jobs": null,
              "parent_msg_id": "c2b1d6bc-a8ff-4d0e-bfc2-00fc57f5641a"
            },
            "text/plain": "StatementMeta(SPK00, 10, 8, Finished, Available)"
          },
          "metadata": {}
        },
        {
          "output_type": "stream",
          "name": "stdout",
          "text": [
            "[[0 1 2]\n [3 4 5]\n [6 7 8]]\n[[1. 0. 0. 0. 0.]\n [0. 1. 0. 0. 0.]\n [0. 0. 1. 0. 0.]\n [0. 0. 0. 1. 0.]\n [0. 0. 0. 0. 1.]]\n"
          ]
        }
      ],
      "execution_count": 7,
      "metadata": {}
    }
  ],
  "metadata": {
    "language_info": {
      "name": "python"
    },
    "kernelspec": {
      "name": "synapse_pyspark",
      "language": "Python",
      "display_name": "Synapse PySpark"
    },
    "kernel_info": {
      "name": "synapse_pyspark"
    },
    "save_output": true,
    "synapse_widget": {
      "version": "0.1",
      "state": {}
    }
  },
  "nbformat": 4,
  "nbformat_minor": 2
}