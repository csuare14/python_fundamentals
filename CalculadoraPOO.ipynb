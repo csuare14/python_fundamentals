{
  "nbformat": 4,
  "nbformat_minor": 0,
  "metadata": {
    "colab": {
      "provenance": []
    },
    "kernelspec": {
      "name": "python3",
      "display_name": "Python 3"
    },
    "language_info": {
      "name": "python"
    }
  },
  "cells": [
    {
      "cell_type": "markdown",
      "source": [],
      "metadata": {
        "id": "kmOFs7gp0QCy"
      }
    },
    {
      "cell_type": "code",
      "execution_count": 19,
      "metadata": {
        "colab": {
          "base_uri": "https://localhost:8080/"
        },
        "id": "4HccLoF0wr2V",
        "outputId": "29eba7fb-a399-487b-975a-4994f1ee80c7"
      },
      "outputs": [
        {
          "output_type": "stream",
          "name": "stdout",
          "text": [
            "Ingrese los números a evaluar\n",
            "Ingrese el primer numero: 100\n",
            "Ingrese el segundo numero: 30\n",
            "La suma de los valores es:  130\n",
            "La resta de los valores es:  70\n",
            "La multiplicacion de los valores es:  3000\n",
            "La division de los valores es:  3.3333333333333335\n"
          ]
        }
      ],
      "source": [
        "class Calculadora:\n",
        "  def __init__(self, valor1, valor2):\n",
        "    self.valor1=valor1\n",
        "    self.valor2=valor2\n",
        "\n",
        "  def sumar (self):\n",
        "    return self.valor1+self.valor2\n",
        "\n",
        "  def restar (self):\n",
        "    return self.valor1-self.valor2\n",
        "\n",
        "  def multiplicar (self):\n",
        "    return self.valor1*self.valor2\n",
        "\n",
        "  def dividir (self):\n",
        "    if self.valor2!=0:\n",
        "      return self.valor1 / self.valor2\n",
        "    else:\n",
        "      return \"No es posible dividir por cero\"\n",
        "\n",
        "print (\"Ingrese los números a evaluar\")\n",
        "valor_1=int(input(\"Ingrese el primer numero: \"))\n",
        "valor_2=int(input(\"Ingrese el segundo numero: \"))\n",
        "\n",
        "\n",
        "calc = Calculadora(valor_1, valor_2)\n",
        "\n",
        "print(\"La suma de los valores es: \", calc.sumar())\n",
        "print(\"La resta de los valores es: \", calc.restar())\n",
        "print(\"La multiplicacion de los valores es: \", calc.multiplicar())\n",
        "print(\"La division de los valores es: \", calc.dividir())\n",
        "\n",
        "\n"
      ]
    }
  ]
}