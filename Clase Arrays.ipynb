{
  "cells": [
    {
      "cell_type": "code",
      "source": [
        "import numpy as np\r\n",
        "\r\n",
        "ventas_mensuales=np.array([[65,34,21,76],[45,33,31,73],[67,14,22,76],[64,32,21,66],[77,24,54,71],[62,31,23,66],[45,37,71,26],[64,32,45,79],[25,54,71,36],[62,14,26,86],[25,74,31,77],[45,24,71,73]])\r\n",
        "print(ventas_mensuales)\r\n",
        "\r\n",
        "total_de_ventas_producto=np.sum(ventas_mensuales, axis=0)\r\n",
        "print(total_de_ventas_producto)\r\n"
      ],
      "outputs": [
        {
          "output_type": "display_data",
          "data": {
            "application/vnd.livy.statement-meta+json": {
              "spark_pool": "SPK00",
              "session_id": "17",
              "statement_id": 4,
              "state": "finished",
              "livy_statement_state": "available",
              "queued_time": "2023-07-15T21:28:51.8496596Z",
              "session_start_time": null,
              "execution_start_time": "2023-07-15T21:28:52.0369288Z",
              "execution_finish_time": "2023-07-15T21:28:52.2324269Z",
              "spark_jobs": null,
              "parent_msg_id": "6a9aaf4a-b5bd-418f-b479-f22ebbbad76e"
            },
            "text/plain": "StatementMeta(SPK00, 17, 4, Finished, Available)"
          },
          "metadata": {}
        },
        {
          "output_type": "stream",
          "name": "stdout",
          "text": [
            "[[65 34 21 76]\n [45 33 31 73]\n [67 14 22 76]\n [64 32 21 66]\n [77 24 54 71]\n [62 31 23 66]\n [45 37 71 26]\n [64 32 45 79]\n [25 54 71 36]\n [62 14 26 86]\n [25 74 31 77]\n [45 24 71 73]]\n[646 403 487 805]\n"
          ]
        }
      ],
      "execution_count": 3,
      "metadata": {}
    }
  ],
  "metadata": {
    "kernelspec": {
      "name": "synapse_pyspark",
      "language": "Python",
      "display_name": "Synapse PySpark"
    },
    "language_info": {
      "name": "python"
    },
    "kernel_info": {
      "name": "synapse_pyspark"
    },
    "save_output": true,
    "synapse_widget": {
      "version": "0.1",
      "state": {}
    }
  },
  "nbformat": 4,
  "nbformat_minor": 2
}