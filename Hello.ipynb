{
  "cells": [
    {
      "cell_type": "code",
      "source": [
        "print(\"Mi nombre es Carolina Suarez\")\r\n"
      ],
      "outputs": [
        {
          "output_type": "display_data",
          "data": {
            "application/vnd.livy.statement-meta+json": {
              "spark_pool": "SPKSmallCAPlab1",
              "session_id": "90",
              "statement_id": 3,
              "state": "finished",
              "livy_statement_state": "available",
              "queued_time": "2023-07-12T17:52:49.6485692Z",
              "session_start_time": null,
              "execution_start_time": "2023-07-12T17:52:49.9167499Z",
              "execution_finish_time": "2023-07-12T17:52:50.0787103Z",
              "spark_jobs": null,
              "parent_msg_id": "e575cade-e4be-460a-91ce-e488b93f8323"
            },
            "text/plain": "StatementMeta(SPKSmallCAPlab1, 90, 3, Finished, Available)"
          },
          "metadata": {}
        },
        {
          "output_type": "stream",
          "name": "stdout",
          "text": [
            "Mi nombre es Carolina Suarez\n"
          ]
        }
      ],
      "execution_count": 2,
      "metadata": {}
    }
  ],
  "metadata": {
    "kernelspec": {
      "name": "synapse_pyspark",
      "language": "Python",
      "display_name": "Synapse PySpark"
    },
    "language_info": {
      "name": "python"
    },
    "kernel_info": {
      "name": "synapse_pyspark"
    },
    "save_output": true,
    "synapse_widget": {
      "version": "0.1",
      "state": {}
    }
  },
  "nbformat": 4,
  "nbformat_minor": 2
}