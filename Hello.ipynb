{
  "cells": [
    {
      "cell_type": "code",
      "source": [
        "print(\"Mi nombre es Carolina Suarez\")\r\n",
        "print(\"El principio de la sabiduria es el temor a Jehová\")"
      ],
      "outputs": [],
      "execution_count": 2,
      "metadata": {}
    }
  ],
  "metadata": {
    "kernelspec": {
      "name": "synapse_pyspark",
      "display_name": "Synapse PySpark"
    },
    "language_info": {
      "name": "python"
    },
    "save_output": true,
    "synapse_widget": {
      "version": "0.1",
      "state": {}
    }
  },
  "nbformat": 4,
  "nbformat_minor": 2
}