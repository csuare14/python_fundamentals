{
  "cells": [
    {
      "cell_type": "code",
      "source": [
        "a=True\r\n",
        "b=\"Pescado\"\r\n",
        "c=23\r\n",
        "d=26.89\r\n",
        "Mi_tupla=(a,b,c,d)\r\n",
        "Mi_lista=list(Mi_tupla)\r\n",
        "\r\n",
        "print(Mi_lista)\r\n",
        "\r\n",
        "Mi_diccionario={}\r\n",
        "\r\n",
        "for i in range(len(Mi_lista)):\r\n",
        "    Mi_diccionario[1+i]=Mi_lista[i]\r\n",
        "\r\n",
        "print(Mi_diccionario)\r\n"
      ],
      "outputs": [
        {
          "output_type": "display_data",
          "data": {
            "application/vnd.livy.statement-meta+json": {
              "spark_pool": "SPK01",
              "session_id": "0",
              "statement_id": 4,
              "state": "finished",
              "livy_statement_state": "available",
              "queued_time": "2023-07-13T19:48:21.5895613Z",
              "session_start_time": null,
              "execution_start_time": "2023-07-13T19:48:21.762544Z",
              "execution_finish_time": "2023-07-13T19:48:21.9384621Z",
              "spark_jobs": null,
              "parent_msg_id": "51c82211-36e3-4b57-9cc4-087974577798"
            },
            "text/plain": "StatementMeta(SPK01, 0, 4, Finished, Available)"
          },
          "metadata": {}
        },
        {
          "output_type": "stream",
          "name": "stdout",
          "text": [
            "[True, 'Pescado', 23, 26.89]\n{1: True, 2: 'Pescado', 3: 23, 4: 26.89}\n"
          ]
        }
      ],
      "execution_count": 3,
      "metadata": {}
    }
  ],
  "metadata": {
    "language_info": {
      "name": "python"
    },
    "kernelspec": {
      "name": "synapse_pyspark",
      "language": "Python",
      "display_name": "Synapse PySpark"
    },
    "kernel_info": {
      "name": "synapse_pyspark"
    },
    "save_output": true,
    "synapse_widget": {
      "version": "0.1",
      "state": {}
    }
  },
  "nbformat": 4,
  "nbformat_minor": 2
}