{
  "cells": [
    {
      "cell_type": "code",
      "source": [
        "#Ecuacion 1\r\n",
        "x=24/2\r\n",
        "print(f\"Tengo {x} años.\")\r\n",
        "\r\n",
        "#Ecuacion2\r\n",
        "mi_edad=6\r\n",
        "y=(mi_edad +15)*3\r\n",
        "print(f\"Mi hermana tiene {y} años.\")\r\n",
        "\r\n",
        "#Indentificar quien es mayor\r\n",
        "if x>y:\r\n",
        "    print(\"Soy mayor que mi hermana.\")\r\n",
        "elif x<y:\r\n",
        "    print(\"Mi hermana es mayor que yo.\")\r\n",
        "else:\r\n",
        "    print(\"Mi hermana y yo somos de la misma edad.\")\r\n",
        "\r\n",
        "\r\n"
      ],
      "outputs": [
        {
          "output_type": "display_data",
          "data": {
            "application/vnd.livy.statement-meta+json": {
              "spark_pool": "SPK00",
              "session_id": "7",
              "statement_id": 17,
              "state": "finished",
              "livy_statement_state": "available",
              "queued_time": "2023-07-13T20:42:16.4853393Z",
              "session_start_time": null,
              "execution_start_time": "2023-07-13T20:42:16.6472673Z",
              "execution_finish_time": "2023-07-13T20:42:16.8163598Z",
              "spark_jobs": null,
              "parent_msg_id": "74cebd3f-daf4-4e7b-9b1e-35cad61bcf2b"
            },
            "text/plain": "StatementMeta(SPK00, 7, 17, Finished, Available)"
          },
          "metadata": {}
        },
        {
          "output_type": "stream",
          "name": "stdout",
          "text": [
            "Tengo 12.0 años.\nMi hermana tiene 63 años.\nMi hermana es mayor que yo.\n"
          ]
        }
      ],
      "execution_count": 16,
      "metadata": {}
    }
  ],
  "metadata": {
    "kernelspec": {
      "name": "synapse_pyspark",
      "language": "Python",
      "display_name": "Synapse PySpark"
    },
    "language_info": {
      "name": "python"
    },
    "kernel_info": {
      "name": "synapse_pyspark"
    },
    "save_output": true,
    "synapse_widget": {
      "version": "0.1",
      "state": {}
    }
  },
  "nbformat": 4,
  "nbformat_minor": 2
}