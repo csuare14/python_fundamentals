{
  "nbformat": 4,
  "nbformat_minor": 0,
  "metadata": {
    "colab": {
      "provenance": []
    },
    "kernelspec": {
      "name": "python3",
      "display_name": "Python 3"
    },
    "language_info": {
      "name": "python"
    }
  },
  "cells": [
    {
      "cell_type": "code",
      "execution_count": 11,
      "metadata": {
        "colab": {
          "base_uri": "https://localhost:8080/"
        },
        "id": "lPQ7_XuUG12y",
        "outputId": "4d53ba14-11eb-4e88-c5c8-df9753f0f68d"
      },
      "outputs": [
        {
          "output_type": "stream",
          "name": "stdout",
          "text": [
            "Nombre: Juana\n",
            "Número: 15\n",
            "Nombre: Miguel\n",
            "Número: 8\n",
            "Nombre: Andres\n",
            "Número: 12\n",
            "Nombre: Carla\n",
            "Número: 7\n",
            "Nombre: Susana\n",
            "Número: 13\n",
            "El valor más pequeño de la lista es: 7\n",
            "El valor más grande de la lista es: 15\n"
          ]
        }
      ],
      "source": [
        "diccionario={\"Juana\":15,\"Miguel\":8,\"Andres\":12,\"Carla\":7,\"Susana\":13}\n",
        "\n",
        "for i in diccionario:\n",
        "  nombre=i\n",
        "  numero=diccionario[i]\n",
        "  print(f\"Nombre: {nombre}\")\n",
        "  print(f\"Número: {numero}\")\n",
        "\n",
        "valor=diccionario.values()\n",
        "minimo=min(valor)\n",
        "maximo=max(valor)\n",
        "\n",
        "print(f\"El valor más pequeño de la lista es: {minimo}\")\n",
        "print(f\"El valor más grande de la lista es: {maximo}\")"
      ]
    }
  ]
}