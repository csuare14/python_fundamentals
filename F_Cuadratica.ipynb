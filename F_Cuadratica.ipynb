{
  "nbformat": 4,
  "nbformat_minor": 0,
  "metadata": {
    "colab": {
      "provenance": []
    },
    "kernelspec": {
      "name": "python3",
      "display_name": "Python 3"
    },
    "language_info": {
      "name": "python"
    }
  },
  "cells": [
    {
      "cell_type": "code",
      "execution_count": 21,
      "metadata": {
        "colab": {
          "base_uri": "https://localhost:8080/"
        },
        "id": "vKDY5xaB02J0",
        "outputId": "27322cf7-be75-45a7-f7b8-8c59da379f46"
      },
      "outputs": [
        {
          "output_type": "stream",
          "name": "stdout",
          "text": [
            "-2.0 -2.0\n"
          ]
        }
      ],
      "source": [
        "def cuadratica(a, b, c):\n",
        "\n",
        "\tdiscriminante = b ** 2 - 4*a*c\n",
        "\n",
        "\tif discriminante < 0:\n",
        "\t\tprint(\"La respuesta cuenta con un valor imaginario\")\n",
        "\t\treturn False, False\n",
        "\telse:\n",
        "\t\tx1 = (-b + discriminante ** 0.5) / (2*a)\n",
        "\t\tx2 = (-b + discriminante ** 0.5) / (2*a)\n",
        "\t\treturn x1, x2\n",
        "\n",
        "x1, x2 = cuadratica (1,4,4)\n",
        "print(x1,x2)\n"
      ]
    }
  ]
}